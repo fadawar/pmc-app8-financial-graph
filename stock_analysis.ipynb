{
 "cells": [
  {
   "cell_type": "code",
   "execution_count": 39,
   "metadata": {
    "collapsed": false
   },
   "outputs": [],
   "source": [
    "from pandas_datareader import data\n",
    "from datetime import datetime\n",
    "from bokeh.plotting import figure, show, output_file\n",
    "from bokeh.embed import components\n",
    "from bokeh.resources import CDN\n",
    "\n",
    "start = datetime(2015,11,1)\n",
    "end = datetime(2016,3,10)\n",
    "\n",
    "df = data.DataReader(name='GOOG',data_source='yahoo',start=start,end=end)\n",
    "\n",
    "\n",
    "def inc_dec(c, o):\n",
    "    if c > o:\n",
    "        value = 'Increase'\n",
    "    elif c < o:\n",
    "        value = 'Decrease'\n",
    "    else:\n",
    "        value = 'Equal'\n",
    "    return value\n",
    "\n",
    "df['Status'] = [inc_dec(c, o) for c, o in zip(df.Close, df.Open)]\n",
    "df['Middle'] = (df.Open + df.Close)/2\n",
    "df['Height'] = abs(df.Close - df.Open)\n",
    "\n",
    "\n",
    "p = figure(x_axis_type='datetime', width = 1000, height=300, responsive=True)\n",
    "p.title.text = 'Candlestick Chart'\n",
    "p.grid.grid_line_alpha = 0.3\n",
    "\n",
    "hours_12 = 12*60*60*1000\n",
    "\n",
    "p.segment(df.index, df.High, df.index, df.Low, color='Black')\n",
    "\n",
    "p.rect(df.index[df.Status=='Increase'], df.Middle[df.Status=='Increase'], \n",
    "       hours_12, df.Height[df.Status=='Increase'], fill_color='green', \n",
    "       line_color='black')\n",
    "\n",
    "p.rect(df.index[df.Status=='Decrease'], df.Middle[df.Status=='Decrease'], \n",
    "       hours_12, df.Height[df.Status=='Decrease'], fill_color='red', \n",
    "       line_color='black')\n",
    "\n",
    "#output_file(\"CS.html\")\n",
    "#show(p)\n",
    "script1, div1 = components(p)\n",
    "cdn_js = CDN.js_files\n",
    "cdn_css = CDN.css_files"
   ]
  },
  {
   "cell_type": "code",
   "execution_count": 37,
   "metadata": {
    "collapsed": false
   },
   "outputs": [
    {
     "name": "stdout",
     "output_type": "stream",
     "text": [
      "\n",
      "<div class=\"bk-root\">\n",
      "    <div class=\"bk-plotdiv\" id=\"81b9a8b1-8024-4cc7-944c-f3b4fb62319a\"></div>\n",
      "</div>\n"
     ]
    }
   ],
   "source": [
    "print(div1)"
   ]
  },
  {
   "cell_type": "code",
   "execution_count": 38,
   "metadata": {
    "collapsed": false
   },
   "outputs": [
    {
     "data": {
      "text/plain": [
       "['https://cdn.pydata.org/bokeh/release/bokeh-0.12.4.min.js',\n",
       " 'https://cdn.pydata.org/bokeh/release/bokeh-widgets-0.12.4.min.js']"
      ]
     },
     "execution_count": 38,
     "metadata": {},
     "output_type": "execute_result"
    }
   ],
   "source": [
    "cdn_js"
   ]
  }
 ],
 "metadata": {
  "kernelspec": {
   "display_name": "Python 3",
   "language": "python",
   "name": "python3"
  },
  "language_info": {
   "codemirror_mode": {
    "name": "ipython",
    "version": 3
   },
   "file_extension": ".py",
   "mimetype": "text/x-python",
   "name": "python",
   "nbconvert_exporter": "python",
   "pygments_lexer": "ipython3",
   "version": "3.5.2+"
  }
 },
 "nbformat": 4,
 "nbformat_minor": 2
}
